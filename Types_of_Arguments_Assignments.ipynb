{
  "nbformat": 4,
  "nbformat_minor": 0,
  "metadata": {
    "colab": {
      "provenance": []
    },
    "kernelspec": {
      "name": "python3",
      "display_name": "Python 3"
    },
    "language_info": {
      "name": "python"
    }
  },
  "cells": [
    {
      "cell_type": "code",
      "source": [
        "# Positional Arguments\n",
        "#Write a function to take 3 numbers and return largest among them\n",
        "def largest_three(num1, num2, num3):\n",
        "    if num1 > num2 and num1 > num3:\n",
        "        return num1\n",
        "    elif num2 > num1 and num2 > num3:\n",
        "        return num2\n",
        "    else:\n",
        "        return num3\n",
        "largest_three(12, 56, 90)"
      ],
      "metadata": {
        "colab": {
          "base_uri": "https://localhost:8080/"
        },
        "id": "3JiMk4ixwDUu",
        "outputId": "7a2e4f33-c7f4-4f1a-a53d-374e7c984b41"
      },
      "execution_count": null,
      "outputs": [
        {
          "output_type": "execute_result",
          "data": {
            "text/plain": [
              "90"
            ]
          },
          "metadata": {},
          "execution_count": 18
        }
      ]
    },
    {
      "cell_type": "code",
      "source": [
        "#Arbitrary Arguments, *args\n",
        "#If you do not know how many arguments that will be passed into your function\n",
        "#add a * before the parameter name\n",
        "def my_function(*kids):\n",
        "  print(\"The youngest child is \" + kids[2])\n",
        "\n",
        "my_function(\"Karan\", \"John\", \"Arjun\")"
      ],
      "metadata": {
        "colab": {
          "base_uri": "https://localhost:8080/"
        },
        "id": "LJyRnoFtwkz4",
        "outputId": "5ec0f9fe-ad26-47f6-f7f6-7e4c04c32d22"
      },
      "execution_count": null,
      "outputs": [
        {
          "output_type": "stream",
          "name": "stdout",
          "text": [
            "The youngest child is Arjun\n"
          ]
        }
      ]
    },
    {
      "cell_type": "code",
      "source": [
        "#Keyword Arguments\n",
        "def my_function(child3, child2,child1=\"Karan\"):\n",
        "  print(\"The youngest child is \" + child1)\n",
        "\n",
        "my_function(child2 = \"John\", child3 = \"Arjun\")\n"
      ],
      "metadata": {
        "id": "0RzBPHzwwj4l",
        "colab": {
          "base_uri": "https://localhost:8080/"
        },
        "outputId": "9bfdc646-52fb-4fe7-c265-c199c5cc9da7"
      },
      "execution_count": null,
      "outputs": [
        {
          "output_type": "stream",
          "name": "stdout",
          "text": [
            "The youngest child is Karan\n"
          ]
        }
      ]
    },
    {
      "cell_type": "code",
      "source": [
        "#Arbitrary Keyword Arguments, **kwargs\n",
        "def my_function(**kid):\n",
        "  print(\"His last name is \" + kid[\"lname\"])\n",
        "\n",
        "my_function(fname = \"Kapil\", lname = \"Sharma\")"
      ],
      "metadata": {
        "colab": {
          "base_uri": "https://localhost:8080/"
        },
        "id": "8tBy0XIqzFC7",
        "outputId": "e1b182d7-1ae9-45c9-c7b0-e4a670507f09"
      },
      "execution_count": null,
      "outputs": [
        {
          "output_type": "stream",
          "name": "stdout",
          "text": [
            "His last name is Sharma\n"
          ]
        }
      ]
    },
    {
      "cell_type": "code",
      "source": [
        "#Default Parameter Value\n",
        "def my_function(country = \"Norway\"):\n",
        "  print(\"I am from \" + country)\n",
        "\n",
        "my_function(\"Sweden\")\n",
        "my_function(\"India\")\n",
        "my_function()\n",
        "my_function(\"Brazil\")"
      ],
      "metadata": {
        "colab": {
          "base_uri": "https://localhost:8080/"
        },
        "id": "CnemoBdA9Buw",
        "outputId": "d1fc6d79-e1aa-45ae-a600-a3e0f622e171"
      },
      "execution_count": null,
      "outputs": [
        {
          "output_type": "stream",
          "name": "stdout",
          "text": [
            "I am from Sweden\n",
            "I am from India\n",
            "I am from Norway\n",
            "I am from Brazil\n"
          ]
        }
      ]
    },
    {
      "cell_type": "markdown",
      "source": [
        "## Assignments\n",
        "1. Build a function that takes the string as a parameter and\n",
        " returns the words in the given string in backward order.\n",
        "\n",
        "\n",
        "2. Checks if a given string is a palindrome\n",
        "2. Find the factorial of a given number.The factorial (symbol: !) means to multiply all whole numbers from the chosen number down to 1.\n",
        "\n",
        "3. Write a Python program to find those numbers which are divisible by 7 and multiple of 5, between 1500 and 2700\n",
        "\n",
        "4. Write a Python program to construct the following pattern, using a nested loop number. Go to the editor\n",
        "Expected Output:\n",
        "\n",
        "1\n",
        "\n",
        "22\n",
        "\n",
        "333\n",
        "\n",
        "4444\n",
        "\n",
        "55555\n",
        "\n",
        "666666\n",
        "\n",
        "7777777\n",
        "\n",
        "88888888\n",
        "\n",
        "999999999"
      ],
      "metadata": {
        "id": "Vk9v9bQpicH5"
      }
    }
  ]
}